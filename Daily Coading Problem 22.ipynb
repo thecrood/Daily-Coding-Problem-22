{
 "cells": [
  {
   "cell_type": "markdown",
   "id": "ea25fe48",
   "metadata": {},
   "source": [
    "# Daily Coading Problem 22"
   ]
  },
  {
   "cell_type": "raw",
   "id": "8d73a80c",
   "metadata": {},
   "source": [
    "This problem was asked by Microsoft.\n",
    "\n",
    "Given a dictionary of words and a string made up of those words (no spaces), return the original sentence in a list. If there is more than one possible reconstruction, return any of them. If there is no possible reconstruction, then return null.\n",
    "\n",
    "For example, given the set of words 'quick', 'brown', 'the', 'fox', and the string \"thequickbrownfox\", you should return ['the', 'quick', 'brown', 'fox'].\n",
    "\n",
    "Given the set of words 'bed', 'bath', 'bedbath', 'and', 'beyond', and the string \"bedbathandbeyond\", return either ['bed', 'bath', 'and', 'beyond] or ['bedbath', 'and', 'beyond']."
   ]
  },
  {
   "cell_type": "markdown",
   "id": "0920fda1",
   "metadata": {},
   "source": [
    "# Solution\n",
    "\n",
    "We might be initially tempted to take a greedy approach to this problem, by for example, iterating over the string and checking if our current string matches so far. However, you should immediately find that that can't work: consider the dictionary {'the', 'theremin'} and the string 'theremin': we would find 'the' first, and then we wouldn't be able to match 'remin'.\n",
    "\n",
    "So this greedy approach doesn't work, since we would need to go back if we get stuck. This gives us a clue that we might want to use backtracking to help us solve this problem. We also have the following idea for a recurrence: If we split up the string into a prefix and suffix, then we can return the prefix extended with a list of the rest of the sentence, but only if they're both valid. So what we can do is the following:\n",
    "\n",
    " * Iterate over the string and split it into a prefix and suffix\n",
    " * If the prefix is valid (appears in the dictionary), then recursively call on the suffix\n",
    " * If that's valid, then return. Otherwise, continue searching.\n",
    " * If we've gone over the entire sentence and haven't found anything, then return empty.\n",
    "\n",
    "We'll need a helper function to tell us whether the string can actually be broken up into a sentence as well, so let's define find_sentence_helper that also returns whether or not the sentence is valid.\n",
    "\n"
   ]
  },
  {
   "cell_type": "code",
   "execution_count": 1,
   "id": "969318da",
   "metadata": {},
   "outputs": [],
   "source": [
    "def find_sentence(dictionary, s):\n",
    "    sentence, valid = find_sentence_helper(dictionary, s)\n",
    "    if valid:\n",
    "        return sentence\n",
    "\n",
    "def find_sentence_helper(dictionary, s):\n",
    "    if len(s) == 0:\n",
    "        return [], True\n",
    "\n",
    "    result = []\n",
    "    for i in range(len(s) + 1):\n",
    "        prefix, suffix = s[:i], s[i:]\n",
    "        if prefix in dictionary:\n",
    "            rest, valid = find_sentence_helper(dictionary, suffix)\n",
    "            if valid:\n",
    "                return [prefix] + rest, True\n",
    "    return [], False"
   ]
  },
  {
   "cell_type": "markdown",
   "id": "d3858944",
   "metadata": {},
   "source": [
    "This will run in O(2^N) time, however. This is because in the worst case, say, for example, s = \"aaaaab\" and dictionary = [\"a\", \"aa\", \"aaa\", \"aaaa\", \"aaaaa\"], we will end up exploring every single path, or every combination of letters, and the total number of combinations of characters is 2^N.\n",
    "\n",
    "We can improve the running time by using dynamic programming to store repeated subcomputations. This reduces the running time to just O(N^2). We'll keep a dictionary that maps from indices to the last word that can be made up to that index. We'll call these starts. Then, we just need to do two nested for loops, one that iterates over the whole string and tries to find a start at that index, and a loop that checks each start to see if a new word can be made from that start to the current index.\n",
    "\n",
    "Now we can simply take the start at the last index and build our sentence backwards:"
   ]
  },
  {
   "cell_type": "code",
   "execution_count": 10,
   "id": "6d650145",
   "metadata": {},
   "outputs": [
    {
     "name": "stdout",
     "output_type": "stream",
     "text": [
      "['bed', 'bath', 'and', 'beyond']\n"
     ]
    }
   ],
   "source": [
    "def find_sentence(s, dictionary):\n",
    "    starts = {0: ''}\n",
    "    for i in range(len(s) + 1):\n",
    "        new_starts = starts.copy()\n",
    "        for start_index, _ in starts.items():\n",
    "            word = s[start_index:i]\n",
    "            if word in dictionary:\n",
    "                new_starts[i] = word\n",
    "        starts = new_starts.copy()\n",
    "\n",
    "    result = []\n",
    "    current_length = len(s)\n",
    "    if current_length not in starts:\n",
    "        return None\n",
    "    while current_length > 0:\n",
    "        word = starts[current_length]\n",
    "        current_length -= len(word)\n",
    "        result.append(word)\n",
    "\n",
    "    return list(reversed(result))\n",
    "print(find_sentence(\"bedbathandbeyond\" ,['bed', 'bath', 'and', 'beyond']))"
   ]
  },
  {
   "cell_type": "markdown",
   "id": "9a176bba",
   "metadata": {},
   "source": [
    "Now this runs in O(N^2) time and O(N) space."
   ]
  }
 ],
 "metadata": {
  "kernelspec": {
   "display_name": "Python 3 (ipykernel)",
   "language": "python",
   "name": "python3"
  },
  "language_info": {
   "codemirror_mode": {
    "name": "ipython",
    "version": 3
   },
   "file_extension": ".py",
   "mimetype": "text/x-python",
   "name": "python",
   "nbconvert_exporter": "python",
   "pygments_lexer": "ipython3",
   "version": "3.8.10"
  }
 },
 "nbformat": 4,
 "nbformat_minor": 5
}
